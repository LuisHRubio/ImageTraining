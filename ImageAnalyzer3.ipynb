{
 "cells": [
  {
   "cell_type": "code",
   "execution_count": 4,
   "id": "5120249b",
   "metadata": {},
   "outputs": [],
   "source": [
    "import cv2\n",
    "import os\n",
    "import csv\n",
    "import numpy as np\n",
    "\n",
    "# Define the folder path containing the images\n",
    "folder_path = 'C:/Users/hiccu/Downloads/ImageTraining'"
   ]
  },
  {
   "cell_type": "code",
   "execution_count": 5,
   "id": "384da379",
   "metadata": {},
   "outputs": [],
   "source": [
    "imageFoldersArray = {\n",
    "    \"Bananas\",\n",
    "    \"BlueMorph\",\n",
    "    \"Strawberry\",\n",
    "    \"BostonTerrier\",\n",
    "    \"Koalas\",\n",
    "    \"MariposaMonarca\",\n",
    "    \"Pinguinos\",\n",
    "    \"Icebergs\",\n",
    "    \"Montanas\"\n",
    "}\n"
   ]
  },
  {
   "cell_type": "code",
   "execution_count": 6,
   "id": "8772b716",
   "metadata": {},
   "outputs": [
    {
     "name": "stdout",
     "output_type": "stream",
     "text": [
      "C:/Users/hiccu/Downloads/ImageTraining/MariposaMonarca\n",
      "C:/Users/hiccu/Downloads/ImageTraining/BlueMorph\n",
      "C:/Users/hiccu/Downloads/ImageTraining/Pinguinos\n",
      "C:/Users/hiccu/Downloads/ImageTraining/Montanas\n",
      "C:/Users/hiccu/Downloads/ImageTraining/Bananas\n",
      "C:/Users/hiccu/Downloads/ImageTraining/Koalas\n",
      "C:/Users/hiccu/Downloads/ImageTraining/BostonTerrier\n",
      "C:/Users/hiccu/Downloads/ImageTraining/Strawberry\n",
      "C:/Users/hiccu/Downloads/ImageTraining/Icebergs\n"
     ]
    }
   ],
   "source": [
    "# Initialize an empty list to store the results\n",
    "results = []\n",
    "    \n",
    "for image_folder in imageFoldersArray:\n",
    "    \n",
    "    images_path = folder_path + '/' + image_folder\n",
    "    print(images_path)  \n",
    "\n",
    "    for filename in os.listdir(images_path):\n",
    "        # Ignore any non-image files\n",
    "        if not filename.endswith(\".jpg\") and not filename.endswith(\".png\"):\n",
    "            continue\n",
    "\n",
    "        # Load the image using OpenCV\n",
    "        image = cv2.imread(os.path.join(images_path, filename))\n",
    "\n",
    "        # Calculate the percentage of each color channel\n",
    "        b,g,r = cv2.split(image)\n",
    "        total_values = np.sum(b) + np.sum(g) + np.sum(r)\n",
    "        blue_percent = (np.sum(b) / total_values) * 100\n",
    "        green_percent = (np.sum(g) / total_values) * 100\n",
    "        red_percent = (np.sum(r) / total_values) * 100\n",
    "\n",
    "        # Ensure the percentages add up to 100\n",
    "        \"\"\"\n",
    "        total_percent = blue_percent + green_percent + red_percent\n",
    "        if total_percent != 100:\n",
    "            blue_percent = (blue_percent / total_percent) * 100\n",
    "            green_percent = (green_percent / total_percent) * 100\n",
    "            red_percent = (red_percent / total_percent) * 100\n",
    "        \"\"\"\n",
    "        # Convert the image to grayscale\n",
    "        gray_image = cv2.cvtColor(image, cv2.COLOR_BGR2GRAY)\n",
    "\n",
    "        # Calculate the average brightness of the grayscale image\n",
    "        gray_brightness = cv2.mean(gray_image)[0] * 100 / 255\n",
    "\n",
    "        # Calculate the average intensity of the original image and map it to the range of 0-100\n",
    "        intensity = cv2.mean(image)[0] * 100 / 255\n",
    "\n",
    "        # Add the results to the list\n",
    "        results.append([filename, blue_percent, green_percent, red_percent, gray_brightness, intensity])"
   ]
  },
  {
   "cell_type": "code",
   "execution_count": 7,
   "id": "c435a5d8",
   "metadata": {},
   "outputs": [],
   "source": [
    "# Write the results to a csv file\n",
    "with open(\"rgb_percentages.csv\", \"w\", newline=\"\") as csv_file:\n",
    "    writer = csv.writer(csv_file)\n",
    "    writer.writerow([\"Filename\", \"Blue %\", \"Green %\", \"Red %\", \"Gray Brightness\", \"Intensity\"])\n",
    "    for result in results:\n",
    "        writer.writerow(result)"
   ]
  }
 ],
 "metadata": {
  "kernelspec": {
   "display_name": "Python 3 (ipykernel)",
   "language": "python",
   "name": "python3"
  },
  "language_info": {
   "codemirror_mode": {
    "name": "ipython",
    "version": 3
   },
   "file_extension": ".py",
   "mimetype": "text/x-python",
   "name": "python",
   "nbconvert_exporter": "python",
   "pygments_lexer": "ipython3",
   "version": "3.10.9"
  }
 },
 "nbformat": 4,
 "nbformat_minor": 5
}
